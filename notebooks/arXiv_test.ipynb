{
 "cells": [
  {
   "cell_type": "code",
   "execution_count": 1,
   "id": "3e5cc631",
   "metadata": {},
   "outputs": [
    {
     "name": "stdout",
     "output_type": "stream",
     "text": [
      "hello world\n"
     ]
    }
   ],
   "source": [
    "print('hello world')"
   ]
  },
  {
   "cell_type": "code",
   "execution_count": 2,
   "id": "3756e168-087d-4243-bbe4-73037d07c233",
   "metadata": {},
   "outputs": [],
   "source": [
    "import arxiv"
   ]
  },
  {
   "cell_type": "code",
   "execution_count": 1,
   "id": "ecbf536e-db3e-457c-a667-c4444722f3eb",
   "metadata": {},
   "outputs": [
    {
     "name": "stdout",
     "output_type": "stream",
     "text": [
      "MP1: Mean Flow Tames Policy Learning in 1-step for Robotic Manipulation\n",
      "Fusing LLM Capabilities with Routing Data\n",
      "Graph World Model\n",
      "CodeJudgeBench: Benchmarking LLM-as-a-Judge for Coding Tasks\n",
      "Reasoning or Memorization? Unreliable Results of Reinforcement Learning Due to Data Contamination\n",
      "DeepResearch$^{\\text{Eco}}$: A Recursive Agentic Workflow for Complex Scientific Question Answering in Ecology\n",
      "Scene-Aware Conversational ADAS with Generative AI for Real-Time Driver Assistance\n",
      "Can You Detect the Difference?\n",
      "MLAR: Multi-layer Large Language Model-based Robotic Process Automation Applicant Tracking\n",
      "From BERT to Qwen: Hate Detection across architectures\n",
      "Logic layer Prompt Control Injection (LPCI): A Novel Security Vulnerability Class in Agentic Systems\n",
      "Charged Black Hole with String Cloud Deformation: Entanglement and Chaos\n",
      "Referential ambiguity and clarification requests: comparing human and LLM behaviour\n",
      "Towards Emotion Co-regulation with LLM-powered Socially Assistive Robots: Integrating LLM Prompts and Robotic Behaviors to Support Parent-Neurodivergent Child Dyads\n",
      "Polaritonic Machine Learning for Graph-based Data Analysis\n",
      "Am I on the Right Track? What Can Predicted Query Performance Tell Us about the Search Behaviour of Agentic RAG\n",
      "Zorse: Optimizing LLM Training Efficiency on Heterogeneous GPU Clusters\n",
      "Instance-Optimized String Fingerprints\n",
      "Leveraging RAG-LLMs for Urban Mobility Simulation and Analysis\n",
      "Gas-phase Elemental abundances in Molecular cloudS (GEMS) XI. The evolution of HCN, HNC, and N2H+ isotopic ratios in starless cores\n",
      "Using AI to replicate human experimental results: a motion study\n",
      "AssertCoder: LLM-Based Assertion Generation via Multimodal Specification Extraction\n",
      "Grammar-Guided Evolutionary Search for Discrete Prompt Optimisation\n",
      "DisCo: Towards Distinct and Coherent Visual Encapsulation in Video MLLMs\n",
      "Prompt Informed Reinforcement Learning for Visual Coverage Path Planning\n"
     ]
    }
   ],
   "source": [
    "import arxiv\n",
    "\n",
    "# Construct the default API client.\n",
    "client = arxiv.Client()\n",
    "\n",
    "terms = [\"LLMs\", \"Cloud\", \"Azure\", \"Retrieval Augmented Generation\"]\n",
    "query_string = \" OR \".join(f'\"{term}\"' for term in terms)\n",
    "\n",
    "search = arxiv.Search(\n",
    "    query=query_string,\n",
    "    max_results=25,\n",
    "    sort_by=arxiv.SortCriterion.SubmittedDate\n",
    ")\n",
    "results = list(client.results(search))\n",
    "for r in results:\n",
    "    print(r.title)\n"
   ]
  }
 ],
 "metadata": {
  "kernelspec": {
   "display_name": "Python 3 (ipykernel)",
   "language": "python",
   "name": "python3"
  },
  "language_info": {
   "codemirror_mode": {
    "name": "ipython",
    "version": 3
   },
   "file_extension": ".py",
   "mimetype": "text/x-python",
   "name": "python",
   "nbconvert_exporter": "python",
   "pygments_lexer": "ipython3",
   "version": "3.11.13"
  }
 },
 "nbformat": 4,
 "nbformat_minor": 5
}
