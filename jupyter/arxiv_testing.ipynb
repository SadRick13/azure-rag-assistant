{
 "cells": [
  {
   "cell_type": "code",
   "execution_count": 1,
   "id": "b54b99c8-fa99-4d3c-a2eb-021b928a5b8d",
   "metadata": {},
   "outputs": [],
   "source": [
    "import arxiv"
   ]
  },
  {
   "cell_type": "code",
   "execution_count": 5,
   "id": "25f9ab4b-f388-4cc3-9a0d-ab0132c5d988",
   "metadata": {},
   "outputs": [
    {
     "name": "stdout",
     "output_type": "stream",
     "text": [
      "Found 0 new relevant papers in the last 24h\n"
     ]
    }
   ],
   "source": [
    "from datetime import datetime, timedelta\n",
    "import arxiv\n",
    "\n",
    "yesterday = (datetime.now() - timedelta(days=1)).strftime(\"%Y%m%d\")\n",
    "today = datetime.now().strftime(\"%Y%m%d\")\n",
    "\n",
    "search = arxiv.Search(\n",
    "    query = '(\"large language model\" OR transformer OR LLM) AND (instruction OR tuning OR RLHF)',\n",
    "    sort_by=arxiv.SortCriterion.SubmittedDate,\n",
    "    sort_order=arxiv.SortOrder.Descending,\n",
    "    max_results=100\n",
    ")\n",
    "\n",
    "# Filter only papers from the last day\n",
    "papers = [r for r in arxiv.Client().results(search)\n",
    "          if r.published.date().strftime(\"%Y%m%d\") >= yesterday]\n",
    "\n",
    "print(f\"Found {len(papers)} new relevant papers in the last 24h\")\n"
   ]
  },
  {
   "cell_type": "code",
   "execution_count": 9,
   "id": "ca2622b2-3bf4-4ca8-b619-5dbe33edfc2c",
   "metadata": {},
   "outputs": [],
   "source": [
    "def fetch_new_arxiv_papers(**context):\n",
    "    from datetime import datetime, timedelta\n",
    "    import arxiv\n",
    "\n",
    "    yesterday = (datetime.now() - timedelta(days=1)).date()\n",
    "    today = datetime.now().date()\n",
    "\n",
    "    search = arxiv.Search(\n",
    "        query = '(\"large language model\" OR transformer OR LLM) AND (instruction OR tuning OR RLHF)',\n",
    "        max_results=100,\n",
    "        sort_by=arxiv.SortCriterion.SubmittedDate\n",
    "    )\n",
    "\n",
    "    results = [\n",
    "        r for r in arxiv.Client().results(search)\n",
    "        if yesterday <= r.published.date() < today\n",
    "    ]\n",
    "    \n",
    "    if not results:\n",
    "        print(\"No new papers found today.\")\n",
    "        return(\"No papers\")\n",
    "\n",
    "    # ... process and store results\n",
    "    print(f\"Found {len(results)} new papers.\")\n",
    "    return f\"{len(results)} papers processed\"\n",
    "\n"
   ]
  },
  {
   "cell_type": "code",
   "execution_count": 10,
   "id": "b0571332-b158-4cf5-88be-476aeafd6446",
   "metadata": {},
   "outputs": [
    {
     "name": "stdout",
     "output_type": "stream",
     "text": [
      "No new papers found today.\n"
     ]
    },
    {
     "data": {
      "text/plain": [
       "'No papers'"
      ]
     },
     "execution_count": 10,
     "metadata": {},
     "output_type": "execute_result"
    }
   ],
   "source": [
    "fetch_new_arxiv_papers()"
   ]
  }
 ],
 "metadata": {
  "kernelspec": {
   "display_name": "Python 3 (ipykernel)",
   "language": "python",
   "name": "python3"
  },
  "language_info": {
   "codemirror_mode": {
    "name": "ipython",
    "version": 3
   },
   "file_extension": ".py",
   "mimetype": "text/x-python",
   "name": "python",
   "nbconvert_exporter": "python",
   "pygments_lexer": "ipython3",
   "version": "3.11.13"
  }
 },
 "nbformat": 4,
 "nbformat_minor": 5
}
